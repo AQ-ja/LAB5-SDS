{
 "cells": [
  {
   "attachments": {},
   "cell_type": "markdown",
   "metadata": {},
   "source": [
    "## Laboratorio #5 Analisis de paquetes de Red\n"
   ]
  },
  {
   "cell_type": "code",
   "execution_count": 1,
   "metadata": {},
   "outputs": [],
   "source": [
    "# Lo primero es importar las librerias que necesitamos \n",
    "\n",
    "from scapy.all import * # Packet manipulation\n",
    "import pandas as pd # Pandas - Create and Manipulate DataFrames\n",
    "import numpy as np # Math Stuff (don't worry only used for one line :] )\n",
    "import binascii # Binary to Ascii \n",
    "import seaborn as sns\n",
    "sns.set(color_codes=True)"
   ]
  },
  {
   "cell_type": "code",
   "execution_count": 4,
   "metadata": {},
   "outputs": [
    {
     "name": "stdout",
     "output_type": "stream",
     "text": [
      "<class 'scapy.plist.PacketList'>\n",
      "10\n",
      "<Sniffed: TCP:7 UDP:3 ICMP:0 Other:0>\n"
     ]
    },
    {
     "data": {
      "text/plain": [
       "<Ether  dst=9c:b6:d0:19:0b:9f src=74:3a:ef:4a:04:57 type=IPv4 |<IP  version=4 ihl=5 tos=0x0 len=40 id=1053 flags=DF frag=0 ttl=111 proto=tcp chksum=0xe8a8 src=20.42.73.25 dst=192.168.1.31 |<TCP  sport=https dport=54923 seq=2869743664 ack=2912439723 dataofs=5 reserved=0 flags=A window=2053 chksum=0x39fd urgptr=0 |<Padding  load='\\x00\\x00\\x00\\x00\\x00\\x00' |>>>>"
      ]
     },
     "execution_count": 4,
     "metadata": {},
     "output_type": "execute_result"
    }
   ],
   "source": [
    "# Ahora capturaremos 10 paquetes\n",
    "\n",
    "num_of_packets_to_sniff = 10\n",
    "pcap = sniff(count=num_of_packets_to_sniff)\n",
    "\n",
    "# rdpcap returns packet list\n",
    "## packetlist object can be enumerated \n",
    "print(type(pcap))\n",
    "print(len(pcap))\n",
    "print(pcap)\n",
    "pcap[0]\n"
   ]
  },
  {
   "cell_type": "code",
   "execution_count": 6,
   "metadata": {},
   "outputs": [
    {
     "name": "stdout",
     "output_type": "stream",
     "text": [
      "<analisis_paquetes.pcap: TCP:0 UDP:62 ICMP:0 Other:0>\n"
     ]
    }
   ],
   "source": [
    "a = rdpcap('./analisis_paquetes.pcap')\n",
    "print(a)"
   ]
  },
  {
   "cell_type": "code",
   "execution_count": 8,
   "metadata": {},
   "outputs": [
    {
     "name": "stdout",
     "output_type": "stream",
     "text": [
      "<combinado.pcap: TCP:7 UDP:65 ICMP:0 Other:0>\n"
     ]
    }
   ],
   "source": [
    "# Ahora uniremos ambos paquetes y procederemos a trabajar con uno solo. \n",
    "\n",
    "pac1= pcap \n",
    "pac2 = a \n",
    "\n",
    "all = pac1 + pac2\n",
    "\n",
    "wrpcap('combinado.pcap', all)\n",
    "combi = rdpcap('./combinado.pcap')\n",
    "print(combi)"
   ]
  },
  {
   "attachments": {},
   "cell_type": "markdown",
   "metadata": {},
   "source": [
    "Como podemos ver, ahora ya tenemmos un archivo que cuenta con todos los daros que necesitamos para trabajar, para eso ahora haremos un DataFrame con el archivo. "
   ]
  },
  {
   "cell_type": "code",
   "execution_count": 10,
   "metadata": {},
   "outputs": [
    {
     "name": "stdout",
     "output_type": "stream",
     "text": [
      "  version ihl tos   len     id flags frag  ttl proto chksum  ... dataofs  \\\n",
      "0       4   5   0    40   1053    DF    0  111     6  59560  ...       5   \n",
      "1       4   5   0    40   1054    DF    0  111     6  59559  ...       5   \n",
      "2       4   5   0  1119   1055    DF    0  111     6  58479  ...       5   \n",
      "3       4   5   0    40  63437    DF    0   64     6   9208  ...       5   \n",
      "4       4   5   0    71  63438    DF    0   64     6   9176  ...       5   \n",
      "5       4   5   0    40  63439    DF    0   64     6   9206  ...       5   \n",
      "\n",
      "  reserved flags  window chksum urgptr options payload  \\\n",
      "0        0     A    2053  14845      0    None       6   \n",
      "1        0     A    2053  12015      0    None       6   \n",
      "2        0   FPA    2053  46294      0       0    1079   \n",
      "3        0     A     513  12475      0    None       0   \n",
      "4        0    PA     513  20648      0       0      31   \n",
      "5        0    FA     513  12443      0    None       0   \n",
      "\n",
      "                                         payload_raw  \\\n",
      "0                        b'\\x00\\x00\\x00\\x00\\x00\\x00'   \n",
      "1                        b'\\x00\\x00\\x00\\x00\\x00\\x00'   \n",
      "2  b'\\x17\\x03\\x03\\x042\\x00\\x00\\x00\\x00\\x00\\x00\\x0...   \n",
      "3                                                b''   \n",
      "4  b'\\x15\\x03\\x03\\x00\\x1a\\x00\\x00\\x00\\x00\\x00\\x00...   \n",
      "5                                                b''   \n",
      "\n",
      "                                         payload_hex  \n",
      "0                                    b'000000000000'  \n",
      "1                                    b'000000000000'  \n",
      "2  b'170303043200000000000000010d2d1d1bd6e7f36a05...  \n",
      "3                                                b''  \n",
      "4  b'150303001a0000000000000002e6d6c1d3d2cc98beee...  \n",
      "5                                                b''  \n",
      "\n",
      "[6 rows x 28 columns]\n"
     ]
    }
   ],
   "source": [
    "# crear un dataframe del archivo: \n",
    "\n",
    "# Obtenemos los campos de IP/TCP/UDP que seran las columnas de nuestro DF\n",
    "ip_fields = [field.name for field in IP().fields_desc]\n",
    "tcp_fields = [field.name for field in TCP().fields_desc]\n",
    "udp_fields = [field.name for field in UDP().fields_desc]\n",
    "\n",
    "#Concatenamos todos los campos\n",
    "dataframe_fields = ip_fields + ['time'] + tcp_fields + ['payload','payload_raw','payload_hex']\n",
    "\n",
    "# Creamos un DF en blanco con los campos como columnas\n",
    "df = pd.DataFrame(columns=dataframe_fields)\n",
    "for packet in pcap[IP]:\n",
    "    # Obtenemos los valores de los campos de cada fila\n",
    "    field_values = []\n",
    "    # A;adimos todos los valores de los campos de IP al df\n",
    "    for field in ip_fields:\n",
    "        if field == 'options':\n",
    "            # Obtenemos el numero de opciones del IP Header\n",
    "            field_values.append(len(packet[IP].fields[field]))\n",
    "        else:\n",
    "            field_values.append(packet[IP].fields[field])\n",
    "    \n",
    "    field_values.append(packet.time)\n",
    "    \n",
    "    layer_type = type(packet[IP].payload)\n",
    "    for field in tcp_fields:\n",
    "        try:\n",
    "            if field == 'options':\n",
    "                field_values.append(len(packet[layer_type].fields[field]))\n",
    "            else:\n",
    "                field_values.append(packet[layer_type].fields[field])\n",
    "        except:\n",
    "            field_values.append(None)\n",
    "    \n",
    "    # Agregamos el payload\n",
    "    field_values.append(len(packet[layer_type].payload))\n",
    "    field_values.append(packet[layer_type].payload.original)\n",
    "    field_values.append(binascii.hexlify(packet[layer_type].payload.original))\n",
    "    # Agregamos la fila al df\n",
    "    df_append = pd.DataFrame([field_values], columns=dataframe_fields)\n",
    "    df = pd.concat([df, df_append], axis=0)\n",
    "\n",
    "# Reset Index\n",
    "df = df.reset_index()\n",
    "# Drop old index column\n",
    "df = df.drop(columns=\"index\")\n",
    "\n",
    "print(df.head(6))"
   ]
  },
  {
   "attachments": {},
   "cell_type": "markdown",
   "metadata": {},
   "source": [
    "Como podemos ya tenemos armado el dataset, con todos los datos que necesitabamos, ahora procederemos a ubicar ciertos valores especificos. "
   ]
  },
  {
   "cell_type": "code",
   "execution_count": 11,
   "metadata": {},
   "outputs": [
    {
     "data": {
      "text/html": [
       "<div>\n",
       "<style scoped>\n",
       "    .dataframe tbody tr th:only-of-type {\n",
       "        vertical-align: middle;\n",
       "    }\n",
       "\n",
       "    .dataframe tbody tr th {\n",
       "        vertical-align: top;\n",
       "    }\n",
       "\n",
       "    .dataframe thead th {\n",
       "        text-align: right;\n",
       "    }\n",
       "</style>\n",
       "<table border=\"1\" class=\"dataframe\">\n",
       "  <thead>\n",
       "    <tr style=\"text-align: right;\">\n",
       "      <th></th>\n",
       "      <th>src</th>\n",
       "      <th>dst</th>\n",
       "      <th>sport</th>\n",
       "      <th>dport</th>\n",
       "    </tr>\n",
       "  </thead>\n",
       "  <tbody>\n",
       "    <tr>\n",
       "      <th>0</th>\n",
       "      <td>20.42.73.25</td>\n",
       "      <td>192.168.1.31</td>\n",
       "      <td>443</td>\n",
       "      <td>54923</td>\n",
       "    </tr>\n",
       "    <tr>\n",
       "      <th>1</th>\n",
       "      <td>20.42.73.25</td>\n",
       "      <td>192.168.1.31</td>\n",
       "      <td>443</td>\n",
       "      <td>54923</td>\n",
       "    </tr>\n",
       "    <tr>\n",
       "      <th>2</th>\n",
       "      <td>20.42.73.25</td>\n",
       "      <td>192.168.1.31</td>\n",
       "      <td>443</td>\n",
       "      <td>54923</td>\n",
       "    </tr>\n",
       "    <tr>\n",
       "      <th>3</th>\n",
       "      <td>192.168.1.31</td>\n",
       "      <td>20.42.73.25</td>\n",
       "      <td>54923</td>\n",
       "      <td>443</td>\n",
       "    </tr>\n",
       "    <tr>\n",
       "      <th>4</th>\n",
       "      <td>192.168.1.31</td>\n",
       "      <td>20.42.73.25</td>\n",
       "      <td>54923</td>\n",
       "      <td>443</td>\n",
       "    </tr>\n",
       "    <tr>\n",
       "      <th>5</th>\n",
       "      <td>192.168.1.31</td>\n",
       "      <td>20.42.73.25</td>\n",
       "      <td>54923</td>\n",
       "      <td>443</td>\n",
       "    </tr>\n",
       "    <tr>\n",
       "      <th>6</th>\n",
       "      <td>20.42.73.25</td>\n",
       "      <td>192.168.1.31</td>\n",
       "      <td>443</td>\n",
       "      <td>54923</td>\n",
       "    </tr>\n",
       "    <tr>\n",
       "      <th>7</th>\n",
       "      <td>192.168.1.25</td>\n",
       "      <td>255.255.255.255</td>\n",
       "      <td>56045</td>\n",
       "      <td>6667</td>\n",
       "    </tr>\n",
       "    <tr>\n",
       "      <th>8</th>\n",
       "      <td>192.168.1.18</td>\n",
       "      <td>255.255.255.255</td>\n",
       "      <td>55098</td>\n",
       "      <td>6667</td>\n",
       "    </tr>\n",
       "    <tr>\n",
       "      <th>9</th>\n",
       "      <td>192.168.1.31</td>\n",
       "      <td>216.230.147.90</td>\n",
       "      <td>65383</td>\n",
       "      <td>53</td>\n",
       "    </tr>\n",
       "  </tbody>\n",
       "</table>\n",
       "</div>"
      ],
      "text/plain": [
       "            src              dst  sport  dport\n",
       "0   20.42.73.25     192.168.1.31    443  54923\n",
       "1   20.42.73.25     192.168.1.31    443  54923\n",
       "2   20.42.73.25     192.168.1.31    443  54923\n",
       "3  192.168.1.31      20.42.73.25  54923    443\n",
       "4  192.168.1.31      20.42.73.25  54923    443\n",
       "5  192.168.1.31      20.42.73.25  54923    443\n",
       "6   20.42.73.25     192.168.1.31    443  54923\n",
       "7  192.168.1.25  255.255.255.255  56045   6667\n",
       "8  192.168.1.18  255.255.255.255  55098   6667\n",
       "9  192.168.1.31   216.230.147.90  65383     53"
      ]
     },
     "execution_count": 11,
     "metadata": {},
     "output_type": "execute_result"
    }
   ],
   "source": [
    "df[['src','dst','sport','dport']]"
   ]
  },
  {
   "cell_type": "code",
   "execution_count": 12,
   "metadata": {},
   "outputs": [
    {
     "name": "stdout",
     "output_type": "stream",
     "text": [
      "# Top Source Address\n",
      "count              10\n",
      "unique              4\n",
      "top       20.42.73.25\n",
      "freq                4\n",
      "Name: src, dtype: object \n",
      "\n",
      "\n"
     ]
    }
   ],
   "source": [
    "#Calcular estadisticas\n",
    "print(\"# Top Source Address\")\n",
    "print(df['src'].describe(),'\\n\\n')"
   ]
  }
 ],
 "metadata": {
  "kernelspec": {
   "display_name": "Python 3",
   "language": "python",
   "name": "python3"
  },
  "language_info": {
   "codemirror_mode": {
    "name": "ipython",
    "version": 3
   },
   "file_extension": ".py",
   "mimetype": "text/x-python",
   "name": "python",
   "nbconvert_exporter": "python",
   "pygments_lexer": "ipython3",
   "version": "3.10.10"
  },
  "orig_nbformat": 4
 },
 "nbformat": 4,
 "nbformat_minor": 2
}
