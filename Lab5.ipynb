{
 "cells": [
  {
   "attachments": {},
   "cell_type": "markdown",
   "metadata": {},
   "source": [
    "## Laboratorio #5 Analisis de paquetes de Red\n"
   ]
  },
  {
   "cell_type": "code",
   "execution_count": 3,
   "metadata": {},
   "outputs": [],
   "source": [
    "# Lo primero es importar las librerias que necesitamos \n",
    "\n",
    "from scapy.all import * # Packet manipulation\n",
    "import pandas as pd # Pandas - Create and Manipulate DataFrames\n",
    "import numpy as np # Math Stuff (don't worry only used for one line :] )\n",
    "import matplotlib.pyplot as plt\n",
    "import binascii\n",
    "import seaborn as sns\n",
    "sns.set(color_codes=True)"
   ]
  },
  {
   "cell_type": "code",
   "execution_count": 4,
   "metadata": {},
   "outputs": [
    {
     "name": "stdout",
     "output_type": "stream",
     "text": [
      "<class 'scapy.plist.PacketList'>\n",
      "10\n",
      "<Sniffed: TCP:10 UDP:0 ICMP:0 Other:0>\n"
     ]
    },
    {
     "data": {
      "text/plain": [
       "<Ether  dst=9c:b6:d0:19:0b:9f src=74:3a:ef:4a:04:57 type=IPv4 |<IP  version=4 ihl=5 tos=0x0 len=79 id=39414 flags=DF frag=0 ttl=47 proto=tcp chksum=0x7ce7 src=104.248.10.4 dst=192.168.1.39 |<TCP  sport=https dport=50260 seq=4146186813 ack=1705603657 dataofs=5 reserved=0 flags=PA window=501 chksum=0x641b urgptr=0 |<Raw  load='\\x17\\x03\\x03\\x00\"K\\\\xc6\\x19tA\\\\xb6(o\\\\x89e`\\\\xfa\\n\\\\xb1/\\\\x96\\\\x88B\\\\xb3g\\\\xb2\\x19\\x05\\\\xa1\\\\xec5\\\\xbc\\\\x8f\\\\x94\\\\x8f7\\x10\\x08\\\\xa8' |>>>>"
      ]
     },
     "execution_count": 4,
     "metadata": {},
     "output_type": "execute_result"
    }
   ],
   "source": [
    "# Ahora capturaremos 10 paquetes\n",
    "\n",
    "num_of_packets_to_sniff = 10\n",
    "pcap = sniff(count=num_of_packets_to_sniff)\n",
    "\n",
    "# rdpcap returns packet list\n",
    "## packetlist object can be enumerated \n",
    "print(type(pcap))\n",
    "print(len(pcap))\n",
    "print(pcap)\n",
    "pcap[0]\n"
   ]
  },
  {
   "cell_type": "code",
   "execution_count": 5,
   "metadata": {},
   "outputs": [
    {
     "name": "stdout",
     "output_type": "stream",
     "text": [
      "<analisis_paquetes.pcap: TCP:0 UDP:62 ICMP:0 Other:0>\n"
     ]
    }
   ],
   "source": [
    "a = rdpcap('./analisis_paquetes.pcap')\n",
    "print(a)"
   ]
  },
  {
   "cell_type": "code",
   "execution_count": 6,
   "metadata": {},
   "outputs": [
    {
     "name": "stdout",
     "output_type": "stream",
     "text": [
      "<combinado.pcap: TCP:10 UDP:62 ICMP:0 Other:0>\n"
     ]
    }
   ],
   "source": [
    "# Ahora uniremos ambos paquetes y procederemos a trabajar con uno solo. \n",
    "\n",
    "pac1= pcap \n",
    "pac2 = a \n",
    "\n",
    "all = pac1 + pac2\n",
    "\n",
    "wrpcap('combinado.pcap', all)\n",
    "combi = rdpcap('./combinado.pcap')\n",
    "print(combi)"
   ]
  },
  {
   "attachments": {},
   "cell_type": "markdown",
   "metadata": {},
   "source": [
    "Como podemos ver, ahora ya tenemmos un archivo que cuenta con todos los daros que necesitamos para trabajar, para eso ahora haremos un DataFrame con el archivo. "
   ]
  },
  {
   "cell_type": "code",
   "execution_count": 7,
   "metadata": {},
   "outputs": [
    {
     "name": "stdout",
     "output_type": "stream",
     "text": [
      "  version ihl tos len     id flags frag  ttl proto chksum  ... dataofs  \\\n",
      "0       4   5   0  79  39414    DF    0   47     6  31975  ...       5   \n",
      "1       4   5   0  64  39415    DF    0   47     6  31989  ...       5   \n",
      "2       4   5   0  40  10922    DF    0   64     6  56154  ...       5   \n",
      "3       4   5   0  40  10923    DF    0   64     6  56153  ...       5   \n",
      "4       4   5   0  52   6987    DF    0  106     6  60917  ...       8   \n",
      "5       4   5   0  40  42618    DF    0   64     6  36050  ...       5   \n",
      "\n",
      "  reserved flags  window chksum urgptr options payload  \\\n",
      "0        0    PA     501  25627      0       0      39   \n",
      "1        0   FPA     501  25943      0       0      24   \n",
      "2        0     A     513   6502      0    None       0   \n",
      "3        0    FA     513   6501      0    None       0   \n",
      "4        0    SA   65535  53978      0       6       0   \n",
      "5        0     A     517   4501      0    None       0   \n",
      "\n",
      "                                         payload_raw  \\\n",
      "0  b'\\x17\\x03\\x03\\x00\"K\\xc6\\x19tA\\xb6(o\\x89e`\\xfa...   \n",
      "1  b'\\x17\\x03\\x03\\x00\\x13\\xc9\\xa9\\x0e\\x90\\xe34\\x8...   \n",
      "2                                                b''   \n",
      "3                                                b''   \n",
      "4                                                b''   \n",
      "5                                                b''   \n",
      "\n",
      "                                         payload_hex  \n",
      "0  b'17030300224bc6197441b6286f896560fa0ab12f9688...  \n",
      "1  b'1703030013c9a90e90e3348e18d428cceaaceaccc1f0...  \n",
      "2                                                b''  \n",
      "3                                                b''  \n",
      "4                                                b''  \n",
      "5                                                b''  \n",
      "\n",
      "[6 rows x 28 columns]\n"
     ]
    }
   ],
   "source": [
    "# crear un dataframe del archivo: ### --- METODO --- ###\n",
    "\n",
    "# Obtenemos los campos de IP/TCP/UDP que seran las columnas de nuestro DF\n",
    "ip_fields = [field.name for field in IP().fields_desc]\n",
    "tcp_fields = [field.name for field in TCP().fields_desc]\n",
    "udp_fields = [field.name for field in UDP().fields_desc]\n",
    "\n",
    "#Concatenamos todos los campos\n",
    "dataframe_fields = ip_fields + ['time'] + tcp_fields + ['payload','payload_raw','payload_hex']\n",
    "\n",
    "# Creamos un DF en blanco con los campos como columnas\n",
    "df = pd.DataFrame(columns=dataframe_fields)\n",
    "for packet in pcap[IP]:\n",
    "    # Obtenemos los valores de los campos de cada fila\n",
    "    field_values = []\n",
    "    # A;adimos todos los valores de los campos de IP al df\n",
    "    for field in ip_fields:\n",
    "        if field == 'options':\n",
    "            # Obtenemos el numero de opciones del IP Header\n",
    "            field_values.append(len(packet[IP].fields[field]))\n",
    "        else:\n",
    "            field_values.append(packet[IP].fields[field])\n",
    "    \n",
    "    field_values.append(packet.time)\n",
    "    \n",
    "    layer_type = type(packet[IP].payload)\n",
    "    for field in tcp_fields:\n",
    "        try:\n",
    "            if field == 'options':\n",
    "                field_values.append(len(packet[layer_type].fields[field]))\n",
    "            else:\n",
    "                field_values.append(packet[layer_type].fields[field])\n",
    "        except:\n",
    "            field_values.append(None)\n",
    "    \n",
    "    # Agregamos el payload\n",
    "    field_values.append(len(packet[layer_type].payload))\n",
    "    field_values.append(packet[layer_type].payload.original)\n",
    "    field_values.append(binascii.hexlify(packet[layer_type].payload.original))\n",
    "    # Agregamos la fila al df\n",
    "    df_append = pd.DataFrame([field_values], columns=dataframe_fields)\n",
    "    df = pd.concat([df, df_append], axis=0)\n",
    "\n",
    "# Reset Index\n",
    "df = df.reset_index()\n",
    "# Drop old index column\n",
    "df = df.drop(columns=\"index\")\n",
    "\n",
    "print(df.head(6))"
   ]
  },
  {
   "attachments": {},
   "cell_type": "markdown",
   "metadata": {},
   "source": [
    "Como podemos ya tenemos armado el dataset, con todos los datos que necesitabamos, ahora procederemos a ubicar ciertos valores especificos. "
   ]
  },
  {
   "cell_type": "code",
   "execution_count": 8,
   "metadata": {},
   "outputs": [
    {
     "data": {
      "text/html": [
       "<div>\n",
       "<style scoped>\n",
       "    .dataframe tbody tr th:only-of-type {\n",
       "        vertical-align: middle;\n",
       "    }\n",
       "\n",
       "    .dataframe tbody tr th {\n",
       "        vertical-align: top;\n",
       "    }\n",
       "\n",
       "    .dataframe thead th {\n",
       "        text-align: right;\n",
       "    }\n",
       "</style>\n",
       "<table border=\"1\" class=\"dataframe\">\n",
       "  <thead>\n",
       "    <tr style=\"text-align: right;\">\n",
       "      <th></th>\n",
       "      <th>src</th>\n",
       "      <th>dst</th>\n",
       "      <th>sport</th>\n",
       "      <th>dport</th>\n",
       "      <th>payload</th>\n",
       "    </tr>\n",
       "  </thead>\n",
       "  <tbody>\n",
       "    <tr>\n",
       "      <th>0</th>\n",
       "      <td>104.248.10.4</td>\n",
       "      <td>192.168.1.39</td>\n",
       "      <td>443</td>\n",
       "      <td>50260</td>\n",
       "      <td>39</td>\n",
       "    </tr>\n",
       "    <tr>\n",
       "      <th>1</th>\n",
       "      <td>104.248.10.4</td>\n",
       "      <td>192.168.1.39</td>\n",
       "      <td>443</td>\n",
       "      <td>50260</td>\n",
       "      <td>24</td>\n",
       "    </tr>\n",
       "    <tr>\n",
       "      <th>2</th>\n",
       "      <td>192.168.1.39</td>\n",
       "      <td>104.248.10.4</td>\n",
       "      <td>50260</td>\n",
       "      <td>443</td>\n",
       "      <td>0</td>\n",
       "    </tr>\n",
       "    <tr>\n",
       "      <th>3</th>\n",
       "      <td>192.168.1.39</td>\n",
       "      <td>104.248.10.4</td>\n",
       "      <td>50260</td>\n",
       "      <td>443</td>\n",
       "      <td>0</td>\n",
       "    </tr>\n",
       "    <tr>\n",
       "      <th>4</th>\n",
       "      <td>52.178.17.2</td>\n",
       "      <td>192.168.1.39</td>\n",
       "      <td>443</td>\n",
       "      <td>50565</td>\n",
       "      <td>0</td>\n",
       "    </tr>\n",
       "    <tr>\n",
       "      <th>5</th>\n",
       "      <td>192.168.1.39</td>\n",
       "      <td>52.178.17.2</td>\n",
       "      <td>50565</td>\n",
       "      <td>443</td>\n",
       "      <td>0</td>\n",
       "    </tr>\n",
       "    <tr>\n",
       "      <th>6</th>\n",
       "      <td>192.168.1.39</td>\n",
       "      <td>52.178.17.2</td>\n",
       "      <td>50565</td>\n",
       "      <td>443</td>\n",
       "      <td>517</td>\n",
       "    </tr>\n",
       "    <tr>\n",
       "      <th>7</th>\n",
       "      <td>52.178.17.2</td>\n",
       "      <td>192.168.1.39</td>\n",
       "      <td>443</td>\n",
       "      <td>50566</td>\n",
       "      <td>0</td>\n",
       "    </tr>\n",
       "    <tr>\n",
       "      <th>8</th>\n",
       "      <td>192.168.1.39</td>\n",
       "      <td>52.178.17.2</td>\n",
       "      <td>50566</td>\n",
       "      <td>443</td>\n",
       "      <td>0</td>\n",
       "    </tr>\n",
       "    <tr>\n",
       "      <th>9</th>\n",
       "      <td>192.168.1.39</td>\n",
       "      <td>52.178.17.2</td>\n",
       "      <td>50566</td>\n",
       "      <td>443</td>\n",
       "      <td>517</td>\n",
       "    </tr>\n",
       "  </tbody>\n",
       "</table>\n",
       "</div>"
      ],
      "text/plain": [
       "            src           dst  sport  dport payload\n",
       "0  104.248.10.4  192.168.1.39    443  50260      39\n",
       "1  104.248.10.4  192.168.1.39    443  50260      24\n",
       "2  192.168.1.39  104.248.10.4  50260    443       0\n",
       "3  192.168.1.39  104.248.10.4  50260    443       0\n",
       "4   52.178.17.2  192.168.1.39    443  50565       0\n",
       "5  192.168.1.39   52.178.17.2  50565    443       0\n",
       "6  192.168.1.39   52.178.17.2  50565    443     517\n",
       "7   52.178.17.2  192.168.1.39    443  50566       0\n",
       "8  192.168.1.39   52.178.17.2  50566    443       0\n",
       "9  192.168.1.39   52.178.17.2  50566    443     517"
      ]
     },
     "execution_count": 8,
     "metadata": {},
     "output_type": "execute_result"
    }
   ],
   "source": [
    "df[['src','dst','sport','dport', 'payload']]"
   ]
  },
  {
   "cell_type": "code",
   "execution_count": 9,
   "metadata": {},
   "outputs": [
    {
     "name": "stdout",
     "output_type": "stream",
     "text": [
      "# Top Source Address\n",
      "count               10\n",
      "unique               3\n",
      "top       192.168.1.39\n",
      "freq                 6\n",
      "Name: src, dtype: object \n",
      "\n",
      "\n"
     ]
    }
   ],
   "source": [
    "#Calcular estadistica del SRC ADDRESS\n",
    "print(\"# Top Source Address\")\n",
    "print(df['src'].describe(),'\\n\\n')"
   ]
  },
  {
   "cell_type": "code",
   "execution_count": 10,
   "metadata": {},
   "outputs": [
    {
     "name": "stdout",
     "output_type": "stream",
     "text": [
      "# Top Source Address\n",
      "count               10\n",
      "unique               3\n",
      "top       192.168.1.39\n",
      "freq                 4\n",
      "Name: dst, dtype: object \n",
      "\n",
      "\n"
     ]
    }
   ],
   "source": [
    "#Calcular estadistica del Dst ADDRESS\n",
    "print(\"# Top Source Address\")\n",
    "print(df['dst'].describe(),'\\n\\n')"
   ]
  },
  {
   "cell_type": "code",
   "execution_count": 11,
   "metadata": {},
   "outputs": [
    {
     "name": "stdout",
     "output_type": "stream",
     "text": [
      "# Top Source Address\n",
      "count      10\n",
      "unique      4\n",
      "top       443\n",
      "freq        4\n",
      "Name: sport, dtype: int64 \n",
      "\n",
      "\n"
     ]
    }
   ],
   "source": [
    "#Calcular estadistica del SRC Port\n",
    "print(\"# Top Source Address\")\n",
    "print(df['sport'].describe(),'\\n\\n')"
   ]
  },
  {
   "cell_type": "code",
   "execution_count": 12,
   "metadata": {},
   "outputs": [
    {
     "name": "stdout",
     "output_type": "stream",
     "text": [
      "# Top Source Address\n",
      "count               10\n",
      "unique               3\n",
      "top       192.168.1.39\n",
      "freq                 6\n",
      "Name: src, dtype: object \n",
      "\n",
      "\n"
     ]
    }
   ],
   "source": [
    "#Calcular estadistica del Dst Port\n",
    "print(\"# Top Source Address\")\n",
    "print(df['src'].describe(),'\\n\\n')"
   ]
  },
  {
   "attachments": {},
   "cell_type": "markdown",
   "metadata": {},
   "source": [
    "#### Estadisticas"
   ]
  },
  {
   "cell_type": "code",
   "execution_count": 13,
   "metadata": {},
   "outputs": [
    {
     "name": "stdout",
     "output_type": "stream",
     "text": [
      "192.168.1.39\n"
     ]
    }
   ],
   "source": [
    "#¿Quien es la IP de origen mas frecuente?\n",
    "frequent_address = df['src'].describe()['top']\n",
    "print(frequent_address)"
   ]
  },
  {
   "cell_type": "code",
   "execution_count": 14,
   "metadata": {},
   "outputs": [
    {
     "name": "stdout",
     "output_type": "stream",
     "text": [
      "['104.248.10.4' '52.178.17.2'] \n",
      "\n",
      "\n"
     ]
    }
   ],
   "source": [
    "# A que IPs destino mas frecuente\n",
    "print(df[df['src'] == frequent_address]['dst'].unique(),\"\\n\\n\")"
   ]
  },
  {
   "cell_type": "code",
   "execution_count": 15,
   "metadata": {},
   "outputs": [
    {
     "name": "stdout",
     "output_type": "stream",
     "text": [
      "['104.248.10.4' '52.178.17.2'] \n",
      "\n",
      "\n"
     ]
    }
   ],
   "source": [
    "# Cual es la IP que se comunica mas la primera IP\n",
    "print(df[df['dst'] == frequent_address]['src'].unique(),\"\\n\\n\")"
   ]
  },
  {
   "cell_type": "code",
   "execution_count": 16,
   "metadata": {},
   "outputs": [
    {
     "name": "stdout",
     "output_type": "stream",
     "text": [
      "IPs a las que mas se comunica:  ['104.248.10.4' '52.178.17.2']\n",
      "Puertos destinos a las que se comunica:  [50260 50565 50566]\n"
     ]
    }
   ],
   "source": [
    "fd_df = df[df[\"src\"] == frequent_address]\n",
    "print(\"IPs a las que mas se comunica: \", fd_df[\"dst\"].unique())\n",
    "print(\"Puertos destinos a las que se comunica: \", fd_df[\"sport\"].unique())"
   ]
  },
  {
   "attachments": {},
   "cell_type": "markdown",
   "metadata": {},
   "source": [
    "#### Indique el propósito de los puertos que más aparece en los incisos d y e\n",
    "Esto es por el DNS, es la funcionalidad del DNS lo que hace que estos puertos aparezcan."
   ]
  },
  {
   "attachments": {},
   "cell_type": "markdown",
   "metadata": {},
   "source": [
    "### GRAFICAS\n",
    "######  Muestre una gráfica 2D, en el eje Y las IPs origen, y en el eje X la suma de los payloads enviados de dichas direcciones."
   ]
  },
  {
   "cell_type": "code",
   "execution_count": 17,
   "metadata": {},
   "outputs": [
    {
     "data": {
      "image/png": "[encoded data removed]",
      "text/plain": [
       "<Figure size 640x480 with 1 Axes>"
      ]
     },
     "metadata": {},
     "output_type": "display_data"
    }
   ],
   "source": [
    "ips = df['src']\n",
    "pay = df['payload']\n",
    "\n",
    "plt.scatter(pay, ips)\n",
    "plt.xlabel('Suma de Payloads Enviados')\n",
    "plt.ylabel('IP de Origen')\n",
    "plt.title('Gráfica de Suma de Payloads por IP de Origen')\n",
    "plt.show()"
   ]
  },
  {
   "attachments": {},
   "cell_type": "markdown",
   "metadata": {},
   "source": [
    "###### Muestre una gráfica 2D, en el eje Y las IPs destino, y en el eje X la suma de los payloads recibidos en dichas direcciones."
   ]
  },
  {
   "cell_type": "code",
   "execution_count": 18,
   "metadata": {},
   "outputs": [
    {
     "data": {
      "image/png": "[encoded data removed]",
      "text/plain": [
       "<Figure size 640x480 with 1 Axes>"
      ]
     },
     "metadata": {},
     "output_type": "display_data"
    }
   ],
   "source": [
    "ips = df['dst']\n",
    "pay = df['payload']\n",
    "\n",
    "plt.scatter(pay, ips)\n",
    "plt.xlabel('Suma de Payloads Enviados')\n",
    "plt.ylabel('IP destino')\n",
    "plt.title('Gráfica de Suma de Payloads por IP destino')\n",
    "plt.show()"
   ]
  },
  {
   "attachments": {},
   "cell_type": "markdown",
   "metadata": {},
   "source": [
    "######  Muestre una gráfica 2D, en el eje Y los puertos origen, y en el eje X la suma de los payloads enviados de dichos puertos."
   ]
  },
  {
   "cell_type": "code",
   "execution_count": 19,
   "metadata": {},
   "outputs": [
    {
     "data": {
      "image/png": "[encoded data removed]",
      "text/plain": [
       "<Figure size 640x480 with 1 Axes>"
      ]
     },
     "metadata": {},
     "output_type": "display_data"
    }
   ],
   "source": [
    "prto = df['sport']\n",
    "pay = df['payload']\n",
    "\n",
    "plt.scatter(pay, prto)\n",
    "plt.xlabel('Suma de Payloads Enviados')\n",
    "plt.ylabel('Puertos de Origen')\n",
    "plt.title('Gráfica de Suma de Payloads por Puertos de Origen')\n",
    "plt.show()"
   ]
  },
  {
   "attachments": {},
   "cell_type": "markdown",
   "metadata": {},
   "source": [
    "######  Muestre una gráfica 2D, en el eje Y los puertos destino, y en el eje X la suma de los payloads recibidos en dichos puertos."
   ]
  },
  {
   "cell_type": "code",
   "execution_count": 20,
   "metadata": {},
   "outputs": [
    {
     "data": {
      "image/png": "[encoded data removed]",
      "text/plain": [
       "<Figure size 640x480 with 1 Axes>"
      ]
     },
     "metadata": {},
     "output_type": "display_data"
    }
   ],
   "source": [
    "ips = df['dport']\n",
    "pay = df['payload']\n",
    "\n",
    "plt.scatter(pay, ips)\n",
    "plt.xlabel('Suma de Payloads Enviados')\n",
    "plt.ylabel('Puertos destino')\n",
    "plt.title('Gráfica de Suma de Payloads por puertos recibidos')\n",
    "plt.show()"
   ]
  },
  {
   "attachments": {},
   "cell_type": "markdown",
   "metadata": {},
   "source": [
    "##### Por ultimo, haremos una investigacion del payload"
   ]
  },
  {
   "cell_type": "code",
   "execution_count": 28,
   "metadata": {},
   "outputs": [
    {
     "data": {
      "text/plain": [
       "6"
      ]
     },
     "execution_count": 28,
     "metadata": {},
     "output_type": "execute_result"
    }
   ],
   "source": [
    "fil_df = df[df[\"src\"] == frequent_address]\n",
    "len(fil_df)"
   ]
  },
  {
   "cell_type": "code",
   "execution_count": 29,
   "metadata": {},
   "outputs": [
    {
     "data": {
      "text/plain": [
       "517"
      ]
     },
     "execution_count": 29,
     "metadata": {},
     "output_type": "execute_result"
    }
   ],
   "source": [
    "pay_fil = fil_df[\"payload\"].unique()\n",
    "max(pay_fil)"
   ]
  },
  {
   "cell_type": "code",
   "execution_count": 30,
   "metadata": {},
   "outputs": [
    {
     "data": {
      "text/html": [
       "<div>\n",
       "<style scoped>\n",
       "    .dataframe tbody tr th:only-of-type {\n",
       "        vertical-align: middle;\n",
       "    }\n",
       "\n",
       "    .dataframe tbody tr th {\n",
       "        vertical-align: top;\n",
       "    }\n",
       "\n",
       "    .dataframe thead th {\n",
       "        text-align: right;\n",
       "    }\n",
       "</style>\n",
       "<table border=\"1\" class=\"dataframe\">\n",
       "  <thead>\n",
       "    <tr style=\"text-align: right;\">\n",
       "      <th></th>\n",
       "      <th>version</th>\n",
       "      <th>ihl</th>\n",
       "      <th>tos</th>\n",
       "      <th>len</th>\n",
       "      <th>id</th>\n",
       "      <th>flags</th>\n",
       "      <th>frag</th>\n",
       "      <th>ttl</th>\n",
       "      <th>proto</th>\n",
       "      <th>chksum</th>\n",
       "      <th>...</th>\n",
       "      <th>dataofs</th>\n",
       "      <th>reserved</th>\n",
       "      <th>flags</th>\n",
       "      <th>window</th>\n",
       "      <th>chksum</th>\n",
       "      <th>urgptr</th>\n",
       "      <th>options</th>\n",
       "      <th>payload</th>\n",
       "      <th>payload_raw</th>\n",
       "      <th>payload_hex</th>\n",
       "    </tr>\n",
       "  </thead>\n",
       "  <tbody>\n",
       "    <tr>\n",
       "      <th>6</th>\n",
       "      <td>4</td>\n",
       "      <td>5</td>\n",
       "      <td>0</td>\n",
       "      <td>557</td>\n",
       "      <td>42619</td>\n",
       "      <td>DF</td>\n",
       "      <td>0</td>\n",
       "      <td>64</td>\n",
       "      <td>6</td>\n",
       "      <td>35532</td>\n",
       "      <td>...</td>\n",
       "      <td>5</td>\n",
       "      <td>0</td>\n",
       "      <td>PA</td>\n",
       "      <td>517</td>\n",
       "      <td>31025</td>\n",
       "      <td>0</td>\n",
       "      <td>0</td>\n",
       "      <td>517</td>\n",
       "      <td>b'\\x16\\x03\\x01\\x02\\x00\\x01\\x00\\x01\\xfc\\x03\\x03...</td>\n",
       "      <td>b'1603010200010001fc0303c86bb2e7194d870b82961f...</td>\n",
       "    </tr>\n",
       "    <tr>\n",
       "      <th>9</th>\n",
       "      <td>4</td>\n",
       "      <td>5</td>\n",
       "      <td>0</td>\n",
       "      <td>557</td>\n",
       "      <td>42621</td>\n",
       "      <td>DF</td>\n",
       "      <td>0</td>\n",
       "      <td>64</td>\n",
       "      <td>6</td>\n",
       "      <td>35530</td>\n",
       "      <td>...</td>\n",
       "      <td>5</td>\n",
       "      <td>0</td>\n",
       "      <td>PA</td>\n",
       "      <td>517</td>\n",
       "      <td>26386</td>\n",
       "      <td>0</td>\n",
       "      <td>0</td>\n",
       "      <td>517</td>\n",
       "      <td>b\"\\x16\\x03\\x01\\x02\\x00\\x01\\x00\\x01\\xfc\\x03\\x03...</td>\n",
       "      <td>b'1603010200010001fc0303b9c7f0ae625cce564786f3...</td>\n",
       "    </tr>\n",
       "  </tbody>\n",
       "</table>\n",
       "<p>2 rows × 28 columns</p>\n",
       "</div>"
      ],
      "text/plain": [
       "  version ihl tos  len     id flags frag ttl proto chksum  ... dataofs  \\\n",
       "6       4   5   0  557  42619    DF    0  64     6  35532  ...       5   \n",
       "9       4   5   0  557  42621    DF    0  64     6  35530  ...       5   \n",
       "\n",
       "  reserved flags  window chksum urgptr options payload  \\\n",
       "6        0    PA     517  31025      0       0     517   \n",
       "9        0    PA     517  26386      0       0     517   \n",
       "\n",
       "                                         payload_raw  \\\n",
       "6  b'\\x16\\x03\\x01\\x02\\x00\\x01\\x00\\x01\\xfc\\x03\\x03...   \n",
       "9  b\"\\x16\\x03\\x01\\x02\\x00\\x01\\x00\\x01\\xfc\\x03\\x03...   \n",
       "\n",
       "                                         payload_hex  \n",
       "6  b'1603010200010001fc0303c86bb2e7194d870b82961f...  \n",
       "9  b'1603010200010001fc0303b9c7f0ae625cce564786f3...  \n",
       "\n",
       "[2 rows x 28 columns]"
      ]
     },
     "execution_count": 30,
     "metadata": {},
     "output_type": "execute_result"
    }
   ],
   "source": [
    "fil_df[fil_df[\"payload\"] == max(pay_fil)]"
   ]
  }
 ],
 "metadata": {
  "kernelspec": {
   "display_name": "Python 3",
   "language": "python",
   "name": "python3"
  },
  "language_info": {
   "codemirror_mode": {
    "name": "ipython",
    "version": 3
   },
   "file_extension": ".py",
   "mimetype": "text/x-python",
   "name": "python",
   "nbconvert_exporter": "python",
   "pygments_lexer": "ipython3",
   "version": "3.10.11"
  },
  "orig_nbformat": 4
 },
 "nbformat": 4,
 "nbformat_minor": 2
}
